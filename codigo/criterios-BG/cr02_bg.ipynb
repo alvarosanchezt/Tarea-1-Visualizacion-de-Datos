{
 "cells": [
  {
   "cell_type": "code",
   "execution_count": 1,
   "id": "3d4f12db",
   "metadata": {},
   "outputs": [],
   "source": [
    "import pandas as pd\n",
    "import plotly.express as px\n",
    "import plotly.io as pio\n",
    "pio.renderers.default = 'browser'\n",
    "\n",
    "# Crear DataFrame con los datos\n",
    "data = {\n",
    "    'Partido': [\n",
    "        'Centro Unido', 'Ciudadanos', 'Comunes', 'Comunista de Chile', 'Convergencia Social',\n",
    "        'Ecologista Verde', 'Evolucion Politica', 'Federacion Regionalista Verde Social', 'Humanista',\n",
    "        'Igualdad', 'Nuevo Tiempo', 'Partido Conservador Cristiano', 'Partido de la Gente',\n",
    "        'Partido de Trabajadores Revolucionarios', 'Partido Democrata Cristiano', 'Partido Liberal de Chile',\n",
    "        'Partido Nacional Ciudadano', 'Partido Progresista de Chile', 'Partido Union Patriotica',\n",
    "        'Por la Democracia', 'Radical de Chile', 'Regionalista Independiente Democrata',\n",
    "        'Renovacion Nacional', 'Republicano de Chile', 'Revolucion Democratica',\n",
    "        'Socialista de Chile', 'Union Democrata Independiente'\n",
    "    ],\n",
    "    'Sufragó': [\n",
    "        18049, 5854, 5958, 28430, 30143, 5540, 8688, 6321, 6337, 5660, 803, 1803, 38114, 3578,\n",
    "        22145, 3206, 3650, 8886, 15499, 13931, 14335, 9262, 24663, 18126, 17703, 24307, 24368\n",
    "    ],\n",
    "    'No Sufragó': [\n",
    "        10210, 7698, 6357, 17465, 5379, 7214, 8996, 7842, 8681, 8987, 579, 1494, 9590, 4722,\n",
    "        8977, 5397, 2989, 14050, 17318, 14706, 11681, 11223, 12810, 3452, 8915, 16079, 12415\n",
    "    ]\n",
    "}\n",
    "\n",
    "df = pd.DataFrame(data)\n",
    "\n",
    "# Para crear jerarquía: Partido -> Estado de participación\n",
    "df_long = pd.melt(df, id_vars=['Partido'], value_vars=['Sufragó', 'No Sufragó'],\n",
    "                  var_name='Estado', value_name='Cantidad')\n",
    "\n",
    "# Crear Treemap con Plotly\n",
    "fig = px.treemap(\n",
    "    df_long,\n",
    "    path=['Partido', 'Estado'],\n",
    "    values='Cantidad',\n",
    "    color='Estado',\n",
    "    color_discrete_map={'Sufragó': 'green', 'No Sufragó': 'red'},\n",
    "    title='Participación Electoral por Partido Político'\n",
    ")\n",
    "\n",
    "fig.update_layout(margin=dict(t=50, l=25, r=25, b=25))\n",
    "fig.show()\n"
   ]
  }
 ],
 "metadata": {
  "kernelspec": {
   "display_name": "Python 3",
   "language": "python",
   "name": "python3"
  },
  "language_info": {
   "codemirror_mode": {
    "name": "ipython",
    "version": 3
   },
   "file_extension": ".py",
   "mimetype": "text/x-python",
   "name": "python",
   "nbconvert_exporter": "python",
   "pygments_lexer": "ipython3",
   "version": "3.11.5"
  }
 },
 "nbformat": 4,
 "nbformat_minor": 5
}
